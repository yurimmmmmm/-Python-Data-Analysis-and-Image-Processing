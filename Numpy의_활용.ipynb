{
  "nbformat": 4,
  "nbformat_minor": 0,
  "metadata": {
    "colab": {
      "provenance": [],
      "authorship_tag": "ABX9TyMiV9JhIAYNq7FVPqe9zBw7",
      "include_colab_link": true
    },
    "kernelspec": {
      "name": "python3",
      "display_name": "Python 3"
    },
    "language_info": {
      "name": "python"
    }
  },
  "cells": [
    {
      "cell_type": "markdown",
      "metadata": {
        "id": "view-in-github",
        "colab_type": "text"
      },
      "source": [
        "<a href=\"https://colab.research.google.com/github/yurimmmmmm/Python_Data_Analysis_and_Image_Processing/blob/main/Numpy%EC%9D%98_%ED%99%9C%EC%9A%A9.ipynb\" target=\"_parent\"><img src=\"https://colab.research.google.com/assets/colab-badge.svg\" alt=\"Open In Colab\"/></a>"
      ]
    },
    {
      "cell_type": "code",
      "execution_count": 1,
      "metadata": {
        "colab": {
          "base_uri": "https://localhost:8080/"
        },
        "id": "0RmdkP6I_Q9T",
        "outputId": "410d8e42-0897-4810-b1e0-35f71088ee65"
      },
      "outputs": [
        {
          "output_type": "stream",
          "name": "stdout",
          "text": [
            "[0 1 2 3 4 5 6 7 8 9]\n"
          ]
        }
      ],
      "source": [
        "import numpy as np\n",
        "\n",
        "# 단일 객체 저장 및 불러오기\n",
        "\n",
        "array = np.arange(0, 10)\n",
        "np.save('saved.npy', array)\n",
        "array = np.load('saved.npy')\n",
        "print(array)"
      ]
    },
    {
      "cell_type": "code",
      "source": [
        "# 복수 객체 저장 및 불러오기\n",
        "\n",
        "array1 = np.arange(0, 10)\n",
        "array2 = np.arange(10, 20)\n",
        "np.savez('saved.npz', array1=array1, array2=array2)\n",
        "data = np.load('saved.npz')\n",
        "result1 = data['array1']\n",
        "result2 = data['array2']\n",
        "\n",
        "print(result1)\n",
        "print(result2)"
      ],
      "metadata": {
        "colab": {
          "base_uri": "https://localhost:8080/"
        },
        "id": "CDQrmX52_agK",
        "outputId": "02b9cc8e-d98b-462f-f134-49a38a4bc695"
      },
      "execution_count": 7,
      "outputs": [
        {
          "output_type": "stream",
          "name": "stdout",
          "text": [
            "[0 1 2 3 4 5 6 7 8 9]\n",
            "[10 11 12 13 14 15 16 17 18 19]\n"
          ]
        }
      ]
    },
    {
      "cell_type": "code",
      "source": [
        "# Numpy 원소 오름차순 정렬\n",
        "\n",
        "array3 = np.array([5, 9, 10, 3 ,1])\n",
        "print(array3)\n",
        "array3.sort()\n",
        "print(array3)\n",
        "\n",
        "# 내림차순순\n",
        "print(array3[::-1])\n",
        "#array4 = array3.sort()\n",
        "#print(array4)"
      ],
      "metadata": {
        "colab": {
          "base_uri": "https://localhost:8080/"
        },
        "id": "e5oLmnLk_3Yw",
        "outputId": "90cc32f3-ec00-499a-9a74-f54f87c8a0c8"
      },
      "execution_count": 13,
      "outputs": [
        {
          "output_type": "stream",
          "name": "stdout",
          "text": [
            "[ 5  9 10  3  1]\n",
            "[ 1  3  5  9 10]\n",
            "[10  9  5  3  1]\n"
          ]
        }
      ]
    },
    {
      "cell_type": "code",
      "source": [
        "# 각 열을 기준으로 정렬\n",
        "\n",
        "array5 = np.array([[5, 9, 10, 3, 1], [8, 3, 4, 2 ,5]])\n",
        "print(array5)\n",
        "array5.sort(axis=0)\n",
        "print(array5)"
      ],
      "metadata": {
        "colab": {
          "base_uri": "https://localhost:8080/"
        },
        "id": "GtDDUb2sBQRq",
        "outputId": "bc14418a-0b4b-4b34-90a3-bc7210bbca8d"
      },
      "execution_count": 20,
      "outputs": [
        {
          "output_type": "stream",
          "name": "stdout",
          "text": [
            "[[ 5  9 10  3  1]\n",
            " [ 8  3  4  2  5]]\n",
            "[[ 5  3  4  2  1]\n",
            " [ 8  9 10  3  5]]\n"
          ]
        }
      ]
    },
    {
      "cell_type": "code",
      "source": [
        "# 균일한 간격으로 데이터 생성\n",
        "\n",
        "array6 = np.linspace(0, 10, 5)\n",
        "print(array6)"
      ],
      "metadata": {
        "colab": {
          "base_uri": "https://localhost:8080/"
        },
        "id": "t2iELE2wB3hq",
        "outputId": "dfe13df2-bef4-4e6f-c7b8-665857ab9fe5"
      },
      "execution_count": 22,
      "outputs": [
        {
          "output_type": "stream",
          "name": "stdout",
          "text": [
            "[ 0.   2.5  5.   7.5 10. ]\n"
          ]
        }
      ]
    },
    {
      "cell_type": "code",
      "source": [
        "#난수의 재연 (실행마다 결과 동일)\n",
        "\n",
        "np.random.seed(7)\n",
        "array7 = np.random.randint(0, 10, (2, 3))\n",
        "print(array7)"
      ],
      "metadata": {
        "colab": {
          "base_uri": "https://localhost:8080/"
        },
        "id": "hnbN5EFZCEDK",
        "outputId": "5b675da8-4aac-45ca-d1be-72825257e11b"
      },
      "execution_count": 28,
      "outputs": [
        {
          "output_type": "stream",
          "name": "stdout",
          "text": [
            "[[4 9 6]\n",
            " [3 3 7]]\n"
          ]
        }
      ]
    },
    {
      "cell_type": "code",
      "source": [
        "# Numpy 배열 객체 복사\n",
        "\n",
        "'''array8 = np.arange(0, 10)\n",
        "array9 = array8\n",
        "array9[0] = 100\n",
        "print(array8)'''\n",
        "\n",
        "array8 = np.arange(0, 10)\n",
        "array9 = array8.copy()\n",
        "array9[0] = 100\n",
        "print(array8)\n",
        "print(array9)"
      ],
      "metadata": {
        "colab": {
          "base_uri": "https://localhost:8080/"
        },
        "id": "t6vOtSvgCf-K",
        "outputId": "b6dffff3-88d6-487f-ef03-6c459cf219b0"
      },
      "execution_count": 31,
      "outputs": [
        {
          "output_type": "stream",
          "name": "stdout",
          "text": [
            "[0 1 2 3 4 5 6 7 8 9]\n",
            "[100   1   2   3   4   5   6   7   8   9]\n"
          ]
        }
      ]
    },
    {
      "cell_type": "code",
      "source": [
        "# 중복된 원소 제거\n",
        "\n",
        "array10 = np.array([1, 1, 2, 2, 3, 3, 4])\n",
        "print(np.unique(array10))"
      ],
      "metadata": {
        "colab": {
          "base_uri": "https://localhost:8080/"
        },
        "id": "8e0kml7UC6xb",
        "outputId": "82cad81e-6b87-4491-b3d3-c61597b03fd2"
      },
      "execution_count": 32,
      "outputs": [
        {
          "output_type": "stream",
          "name": "stdout",
          "text": [
            "[1 2 3 4]\n"
          ]
        }
      ]
    }
  ]
}