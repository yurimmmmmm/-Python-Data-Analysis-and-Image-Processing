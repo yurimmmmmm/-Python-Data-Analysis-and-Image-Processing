{
  "cells": [
    {
      "cell_type": "markdown",
      "metadata": {
        "id": "view-in-github",
        "colab_type": "text"
      },
      "source": [
        "<a href=\"https://colab.research.google.com/github/yurimmmmmm/Python_Data_Analysis_and_Image_Processing/blob/main/Numpy%EC%9D%98_%EA%B8%B0%EB%B3%B8_%EC%82%AC%EC%9A%A9%EB%B2%95.ipynb\" target=\"_parent\"><img src=\"https://colab.research.google.com/assets/colab-badge.svg\" alt=\"Open In Colab\"/></a>"
      ]
    },
    {
      "cell_type": "code",
      "execution_count": 2,
      "id": "4d257f9f",
      "metadata": {
        "colab": {
          "base_uri": "https://localhost:8080/"
        },
        "id": "4d257f9f",
        "outputId": "e58e9b35-7dfa-43f1-eefb-1451461675f4"
      },
      "outputs": [
        {
          "output_type": "stream",
          "name": "stdout",
          "text": [
            "[1, 2, 3]\n",
            "[1 2 3]\n",
            "3\n",
            "int64\n",
            "3\n"
          ]
        }
      ],
      "source": [
        "import numpy as np\n",
        "\n",
        "#Python의 Numpy 라이브러리는 List와 상호 변환이 가능\n",
        "list_data = [1, 2, 3]\n",
        "array = np.array(list_data)\n",
        "\n",
        "print(list_data)\n",
        "print(array)\n",
        "print(array.size) # 배열의 크기\n",
        "print(array.dtype) # 배열 원소의 타입\n",
        "print(array[2]) # 인덱스 2의 원소"
      ]
    },
    {
      "cell_type": "code",
      "execution_count": 3,
      "id": "d441e429",
      "metadata": {
        "colab": {
          "base_uri": "https://localhost:8080/"
        },
        "id": "d441e429",
        "outputId": "23471292-976d-4ce0-be69-796cb57f7245"
      },
      "outputs": [
        {
          "output_type": "stream",
          "name": "stdout",
          "text": [
            "[0 1 2 3]\n",
            "int64\n",
            "\n",
            " [[0. 0. 0. 0.]\n",
            " [0. 0. 0. 0.]\n",
            " [0. 0. 0. 0.]\n",
            " [0. 0. 0. 0.]]\n",
            "float64\n",
            "\n",
            " [[0 0 0 0]\n",
            " [0 0 0 0]\n",
            " [0 0 0 0]\n",
            " [0 0 0 0]]\n",
            "int64\n",
            "\n",
            " [['1' '1' '1']\n",
            " ['1' '1' '1']\n",
            " ['1' '1' '1']]\n",
            "<U1\n"
          ]
        }
      ],
      "source": [
        "# Python의 Numpy 라이브러리는 다양한 형태의 배열을 초기화 할 수 있음\n",
        "\n",
        "# 0부터 3까지의 배열 만들기\n",
        "array1 = np.arange(4)\n",
        "print(array1)\n",
        "print(array1.dtype)\n",
        "\n",
        "# 0으로 초기화\n",
        "array2 = np.zeros((4, 4), dtype = float)\n",
        "print('\\n', array2)\n",
        "print(array2.dtype)\n",
        "\n",
        "array3 = np.zeros((4, 4), dtype = int)\n",
        "print('\\n', array3)\n",
        "print(array3.dtype)\n",
        "\n",
        "# 1로 초기화\n",
        "array4 = np.ones((3, 3), dtype = str)\n",
        "print('\\n', array4)\n",
        "print(array4.dtype)"
      ]
    },
    {
      "cell_type": "code",
      "execution_count": 4,
      "id": "5bac53af",
      "metadata": {
        "colab": {
          "base_uri": "https://localhost:8080/"
        },
        "id": "5bac53af",
        "outputId": "9b400b24-8227-4cbd-ddab-f00f067b33f5"
      },
      "outputs": [
        {
          "output_type": "stream",
          "name": "stdout",
          "text": [
            "[[4 5 3]\n",
            " [5 1 4]\n",
            " [6 8 4]]\n",
            "int64\n"
          ]
        }
      ],
      "source": [
        "# 0부터 9까지 랜덤하게 초기화 된 배열 만들기\n",
        "array5 = np.random.randint(0, 10, (3,3))\n",
        "print(array5)\n",
        "print(array5.dtype)"
      ]
    },
    {
      "cell_type": "code",
      "execution_count": 5,
      "id": "1fafb6be",
      "metadata": {
        "colab": {
          "base_uri": "https://localhost:8080/"
        },
        "id": "1fafb6be",
        "outputId": "34fe97bc-6d5b-48bc-ad4b-487806975451"
      },
      "outputs": [
        {
          "output_type": "stream",
          "name": "stdout",
          "text": [
            "[[-2.06009522 -0.04423631  0.8179309 ]\n",
            " [ 0.50407122  1.51775973  0.02413602]\n",
            " [ 3.29279368 -0.07240089 -0.20435192]]\n"
          ]
        }
      ],
      "source": [
        "# 평균이 0이고, 표준편차가 1인 표준 정규를 띄는 배열\n",
        "array6 = np.random.normal(0, 1, (3,3))\n",
        "print(array6)"
      ]
    },
    {
      "cell_type": "code",
      "execution_count": 6,
      "id": "937b9379",
      "metadata": {
        "colab": {
          "base_uri": "https://localhost:8080/"
        },
        "id": "937b9379",
        "outputId": "9263d218-8e92-43c0-c630-b8af6093f089"
      },
      "outputs": [
        {
          "output_type": "stream",
          "name": "stdout",
          "text": [
            "9\n",
            "(9,)\n",
            "[1 2 3 4 5 6 7 8 9]\n",
            "int64\n"
          ]
        }
      ],
      "source": [
        "# Numpy는 다양한 형태로 합치기가 가능 \n",
        "array7 = np.array([1, 2, 3])\n",
        "array8 = np.array([4, 5, 6])\n",
        "array9= np.array([7, 8, 9])\n",
        "\n",
        "array10 = np.concatenate([array7, array8, array9])\n",
        "\n",
        "print(array10.size)\n",
        "print(array10.shape)\n",
        "print(array10)\n",
        "print(array10.dtype)"
      ]
    },
    {
      "cell_type": "code",
      "execution_count": 7,
      "id": "10c04e7f",
      "metadata": {
        "colab": {
          "base_uri": "https://localhost:8080/"
        },
        "id": "10c04e7f",
        "outputId": "788fc0c8-2bd6-49b1-facb-3796962957fd"
      },
      "outputs": [
        {
          "output_type": "stream",
          "name": "stdout",
          "text": [
            "[[1 2]\n",
            " [3 4]]\n",
            "4\n",
            "(2, 2)\n",
            "int64\n"
          ]
        }
      ],
      "source": [
        "# Numpy의 형태를 변경할 수 있음\n",
        "array11 = np.array([1, 2, 3, 4])\n",
        "array12 = array11.reshape((2, 2))\n",
        "\n",
        "print(array12)\n",
        "print(array12.size)\n",
        "print(array12.shape)\n",
        "print(array12.dtype)"
      ]
    },
    {
      "cell_type": "code",
      "execution_count": 8,
      "id": "95307dee",
      "metadata": {
        "colab": {
          "base_uri": "https://localhost:8080/"
        },
        "id": "95307dee",
        "outputId": "2663e2f1-c7dd-4311-d717-710e986bcf4a"
      },
      "outputs": [
        {
          "output_type": "stream",
          "name": "stdout",
          "text": [
            "[[0 1 2 3]]\n",
            "[[0 1 2 3]\n",
            " [4 5 6 7]] \n",
            "\n",
            "[[0 1 2 3]\n",
            " [0 1 2 3]\n",
            " [4 5 6 7]] \n",
            " \n",
            " \n",
            "\n",
            "[[0]\n",
            " [1]\n",
            " [2]\n",
            " [3]] \n",
            "\n",
            "[[0 1]\n",
            " [2 3]\n",
            " [4 5]\n",
            " [6 7]] \n",
            "\n",
            "[[0 0 1]\n",
            " [1 2 3]\n",
            " [2 4 5]\n",
            " [3 6 7]]\n"
          ]
        }
      ],
      "source": [
        "# Numpy를 위 아래로 합칠 수 있음\n",
        "array13 = np.arange(4).reshape(1, 4)\n",
        "array14 = np.arange(8).reshape(2, 4)\n",
        "\n",
        "print(array13)\n",
        "print(array14, '\\n')\n",
        "\n",
        "array15 = np.concatenate([array13, array14], axis=0)\n",
        "#array15 = np.concatenate([array13, array14], axis=1)\n",
        "print(array15, '\\n', '\\n', '\\n')\n",
        "\n",
        "array16 = np.arange(4).reshape(4, 1)\n",
        "array17 = np.arange(8).reshape(4, 2)\n",
        "\n",
        "print(array16, '\\n')\n",
        "print(array17, '\\n')\n",
        "\n",
        "array18 = np.concatenate([array16, array17], axis=1)\n",
        "#array18 = np.concatenate([array16, array17], axis=0)\n",
        "print(array18)"
      ]
    },
    {
      "cell_type": "code",
      "execution_count": 9,
      "id": "a42c89d7",
      "metadata": {
        "colab": {
          "base_uri": "https://localhost:8080/"
        },
        "id": "a42c89d7",
        "outputId": "e521cc03-a68c-4e2e-9afc-85044eb54093"
      },
      "outputs": [
        {
          "output_type": "stream",
          "name": "stdout",
          "text": [
            "[[0 1 2 3]\n",
            " [4 5 6 7]]\n",
            "\n",
            " [[0 1 2 3]\n",
            " [4 5 6 7]]\n",
            "[]\n",
            "\n",
            " (2, 4) (0, 4)\n",
            "\n",
            " [[0 1]\n",
            " [4 5]]\n",
            "[[2 3]\n",
            " [6 7]]\n",
            "\n",
            " (2, 2) (2, 2)\n"
          ]
        }
      ],
      "source": [
        "# Numpy의 형태를 나누기 할 수 있음\n",
        "array19 = np.arange(8).reshape(2, 4)\n",
        "left, right = np.split(array19, [2], axis=0)\n",
        "left1, right1 = np.split(array19, [2], axis=1)\n",
        "print(array19)\n",
        "print('\\n',left)\n",
        "print(right)\n",
        "print('\\n', left.shape, right.shape)\n",
        "\n",
        "print('\\n',left1)\n",
        "print(right1)\n",
        "print('\\n', left1.shape, right1.shape)"
      ]
    }
  ],
  "metadata": {
    "kernelspec": {
      "display_name": "Python 3 (ipykernel)",
      "language": "python",
      "name": "python3"
    },
    "language_info": {
      "codemirror_mode": {
        "name": "ipython",
        "version": 3
      },
      "file_extension": ".py",
      "mimetype": "text/x-python",
      "name": "python",
      "nbconvert_exporter": "python",
      "pygments_lexer": "ipython3",
      "version": "3.11.2"
    },
    "colab": {
      "provenance": [],
      "include_colab_link": true
    }
  },
  "nbformat": 4,
  "nbformat_minor": 5
}