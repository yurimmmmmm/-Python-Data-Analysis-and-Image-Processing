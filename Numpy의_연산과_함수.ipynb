{
  "cells": [
    {
      "cell_type": "markdown",
      "metadata": {
        "id": "view-in-github",
        "colab_type": "text"
      },
      "source": [
        "<a href=\"https://colab.research.google.com/github/yurimmmmmm/Python_Data_Analysis_and_Image_Processing/blob/main/Numpy%EC%9D%98_%EC%97%B0%EC%82%B0%EA%B3%BC_%ED%95%A8%EC%88%98.ipynb\" target=\"_parent\"><img src=\"https://colab.research.google.com/assets/colab-badge.svg\" alt=\"Open In Colab\"/></a>"
      ]
    },
    {
      "cell_type": "code",
      "execution_count": 1,
      "id": "9d6c90fe",
      "metadata": {
        "colab": {
          "base_uri": "https://localhost:8080/"
        },
        "id": "9d6c90fe",
        "outputId": "d950af04-22fc-4c0c-e128-d83e4781184a"
      },
      "outputs": [
        {
          "output_type": "stream",
          "name": "stdout",
          "text": [
            "[1 9 8 3]\n",
            "[[1 9]\n",
            " [8 3]]\n",
            "\n",
            " [[5 9]\n",
            " [2 7]]\n",
            "\n",
            " [10 90 80 30]\n"
          ]
        }
      ],
      "source": [
        "# 기본적인 Numpy 상수 연산\n",
        "\n",
        "import numpy as np\n",
        "\n",
        "array = np.random.randint(1, 10, size=4)\n",
        "array1 = np.random.randint(1, 10, size=4).reshape(2,2)\n",
        "print(array)\n",
        "print(array.reshape(2,2))\n",
        "print('\\n', array1)\n",
        "\n",
        "result_array = array * 10\n",
        "print('\\n', result_array)"
      ]
    },
    {
      "cell_type": "code",
      "execution_count": 2,
      "id": "003eed2d",
      "metadata": {
        "scrolled": true,
        "colab": {
          "base_uri": "https://localhost:8080/"
        },
        "id": "003eed2d",
        "outputId": "d5d7f8d9-885b-4eed-8599-8a1f7217007c"
      },
      "outputs": [
        {
          "output_type": "stream",
          "name": "stdout",
          "text": [
            "[[0 1]\n",
            " [2 3]]\n",
            "[0 1]\n",
            "[[0 2]\n",
            " [2 4]]\n"
          ]
        }
      ],
      "source": [
        "# 서로 다른 형태의 Numpy 연산\n",
        "\n",
        "array2 = np.arange(4).reshape(2, 2)\n",
        "array3 = np.arange(2)\n",
        "\n",
        "print(array2)\n",
        "print(array3)\n",
        "print(array2 + array3)"
      ]
    },
    {
      "cell_type": "code",
      "execution_count": 3,
      "id": "d557ec69",
      "metadata": {
        "colab": {
          "base_uri": "https://localhost:8080/"
        },
        "id": "d557ec69",
        "outputId": "56f9e027-6f77-4b13-cfe6-b865f2b41ab6"
      },
      "outputs": [
        {
          "output_type": "stream",
          "name": "stdout",
          "text": [
            "\n",
            " [[0 1 2 3]\n",
            " [4 5 6 7]]\n",
            "\n",
            " [[0 1 2 3]\n",
            " [4 5 6 7]]\n",
            "\n",
            " [[0 1 2 3]\n",
            " [4 5 6 7]]\n",
            "\n",
            " [[0 1 2 3]\n",
            " [4 5 6 7]\n",
            " [0 1 2 3]\n",
            " [4 5 6 7]]\n",
            "\n",
            " [[0]\n",
            " [1]\n",
            " [2]\n",
            " [3]]\n",
            "\n",
            " [[ 0  1  2  3]\n",
            " [ 5  6  7  8]\n",
            " [ 2  3  4  5]\n",
            " [ 7  8  9 10]]\n"
          ]
        }
      ],
      "source": [
        "array5 = np.arange(0, 8).reshape(2, 4)\n",
        "array6 = np.arange(0, 8).reshape(2, 4)\n",
        "array7 = np.concatenate([array5, array6], axis=0)\n",
        "array8 = np.arange(0, 4).reshape(4, 1)\n",
        "array9 = np.arange(8).reshape(2, 4)\n",
        "\n",
        "\n",
        "\n",
        "print('\\n', array5)\n",
        "print('\\n', array6)\n",
        "print('\\n', array9)\n",
        "print('\\n', array7)\n",
        "print('\\n', array8)\n",
        "print('\\n', array7 + array8)"
      ]
    },
    {
      "cell_type": "code",
      "execution_count": 4,
      "id": "f644065f",
      "metadata": {
        "scrolled": true,
        "colab": {
          "base_uri": "https://localhost:8080/"
        },
        "id": "f644065f",
        "outputId": "c6e2d1cd-d336-4ac7-aa2b-4a0135aa921e"
      },
      "outputs": [
        {
          "output_type": "stream",
          "name": "stdout",
          "text": [
            "\n",
            " [[ 0  1  2  3]\n",
            " [ 4  5  6  7]\n",
            " [ 8  9 10 11]\n",
            " [12 13 14 15]]\n",
            "\n",
            " [[ True  True  True  True]\n",
            " [ True  True  True  True]\n",
            " [ True  True False False]\n",
            " [False False False False]]\n",
            "\n",
            " [[100 100 100 100]\n",
            " [100 100 100 100]\n",
            " [100 100  10  11]\n",
            " [ 12  13  14  15]]\n"
          ]
        }
      ],
      "source": [
        "# Numpy의 마스킹 연산\n",
        "\n",
        "array10 = np.arange(16).reshape(4, 4)\n",
        "print('\\n', array10)\n",
        "\n",
        "array11 = array10 < 10\n",
        "print('\\n', array11)\n",
        "\n",
        "array10[array11] = 100\n",
        "print('\\n', array10)"
      ]
    },
    {
      "cell_type": "code",
      "execution_count": 5,
      "id": "1cd11426",
      "metadata": {
        "colab": {
          "base_uri": "https://localhost:8080/"
        },
        "id": "1cd11426",
        "outputId": "af2dae4d-62f1-44f9-d336-42b94135de49"
      },
      "outputs": [
        {
          "output_type": "stream",
          "name": "stdout",
          "text": [
            "[[ 0  1  2  3]\n",
            " [ 4  5  6  7]\n",
            " [ 8  9 10 11]\n",
            " [12 13 14 15]] \n",
            "\n",
            "최대값: 15\n",
            "최소값: 0\n",
            "합계: 120\n",
            "평균값: 7.5\n",
            "열 별 합계: [24 28 32 36]\n",
            "행 별 합계: [ 6 22 38 54]\n"
          ]
        }
      ],
      "source": [
        "# Numpy의 다양한 집계 함수\n",
        "\n",
        "array20 = np.arange(16).reshape(4, 4)\n",
        "\n",
        "print(array20, '\\n')\n",
        "print(\"최대값:\", np.max(array20))\n",
        "print(\"최소값:\", np.min(array20))\n",
        "print(\"합계:\", np.sum(array20))\n",
        "print(\"평균값:\", np.mean(array20))\n",
        "print(\"열 별 합계:\", np.sum(array20, axis = 0))\n",
        "print(\"행 별 합계:\", np.sum(array20, axis = 1))"
      ]
    }
  ],
  "metadata": {
    "kernelspec": {
      "display_name": "Python 3 (ipykernel)",
      "language": "python",
      "name": "python3"
    },
    "language_info": {
      "codemirror_mode": {
        "name": "ipython",
        "version": 3
      },
      "file_extension": ".py",
      "mimetype": "text/x-python",
      "name": "python",
      "nbconvert_exporter": "python",
      "pygments_lexer": "ipython3",
      "version": "3.11.2"
    },
    "colab": {
      "provenance": [],
      "include_colab_link": true
    }
  },
  "nbformat": 4,
  "nbformat_minor": 5
}